{
 "cells": [
  {
   "cell_type": "code",
   "execution_count": 2,
   "id": "13be5a53",
   "metadata": {},
   "outputs": [
    {
     "data": {
      "text/plain": [
       "array([[-0.58251903, -1.66431728, -0.33349477],\n",
       "       [-0.15880157, -2.74270947,  0.36085614]])"
      ]
     },
     "execution_count": 2,
     "metadata": {},
     "output_type": "execute_result"
    }
   ],
   "source": [
    "import numpy as np\n",
    "data = np.random.randn(2,3)    #随机生成2行3列的数组\n",
    "data"
   ]
  },
  {
   "cell_type": "code",
   "execution_count": 2,
   "id": "70006910",
   "metadata": {},
   "outputs": [
    {
     "data": {
      "text/plain": [
       "array([[ 0.7518058 , -0.21571538,  2.16032398],\n",
       "       [ 1.29948852, -0.47847865, -2.85928574]])"
      ]
     },
     "execution_count": 2,
     "metadata": {},
     "output_type": "execute_result"
    }
   ],
   "source": [
    "data*10\n",
    "data + data"
   ]
  },
  {
   "cell_type": "code",
   "execution_count": 4,
   "id": "f835eb50",
   "metadata": {},
   "outputs": [
    {
     "data": {
      "text/plain": [
       "dtype('float64')"
      ]
     },
     "execution_count": 4,
     "metadata": {},
     "output_type": "execute_result"
    }
   ],
   "source": [
    "data.shape    #查看数组的行列数\n",
    "data.dtype    #查看数组内元素的数据类型"
   ]
  },
  {
   "cell_type": "code",
   "execution_count": 5,
   "id": "35094bed",
   "metadata": {},
   "outputs": [
    {
     "data": {
      "text/plain": [
       "array([985.  , 211.  ,   5.55,   0.  ,   1.  ])"
      ]
     },
     "execution_count": 5,
     "metadata": {},
     "output_type": "execute_result"
    }
   ],
   "source": [
    "data1 = [985, 211, 5.55, 0, 1] \n",
    "array1 = np.array(data1)    # array函数接收任意序列型对象，生成一个新的包含传递数据的numpy数组\n",
    "array1"
   ]
  },
  {
   "cell_type": "code",
   "execution_count": 7,
   "id": "aae0a5ec",
   "metadata": {},
   "outputs": [
    {
     "data": {
      "text/plain": [
       "array([[1, 2, 3],\n",
       "       [4, 5, 6]])"
      ]
     },
     "execution_count": 7,
     "metadata": {},
     "output_type": "execute_result"
    }
   ],
   "source": [
    "data2 = [[1,2,3],[4,5,6]]\n",
    "array2 = np.array(data2)    #嵌套序列，例如同等长度的列表，将会自动转换成多维数组\n",
    "array2"
   ]
  },
  {
   "cell_type": "code",
   "execution_count": 8,
   "id": "4859efaf",
   "metadata": {},
   "outputs": [
    {
     "data": {
      "text/plain": [
       "2"
      ]
     },
     "execution_count": 8,
     "metadata": {},
     "output_type": "execute_result"
    }
   ],
   "source": [
    "array2.ndim    #检查几维数组"
   ]
  },
  {
   "cell_type": "code",
   "execution_count": 9,
   "id": "98d736cb",
   "metadata": {},
   "outputs": [
    {
     "data": {
      "text/plain": [
       "dtype('int32')"
      ]
     },
     "execution_count": 9,
     "metadata": {},
     "output_type": "execute_result"
    }
   ],
   "source": [
    "array2.dtype    #array自动推断生成数组的数据类型"
   ]
  },
  {
   "cell_type": "code",
   "execution_count": 11,
   "id": "88cf3294",
   "metadata": {},
   "outputs": [
    {
     "data": {
      "text/plain": [
       "array([[0.7518058 , 0.21571538],\n",
       "       [2.16032398, 1.29948852],\n",
       "       [0.47847865, 2.85928574]])"
      ]
     },
     "execution_count": 11,
     "metadata": {},
     "output_type": "execute_result"
    }
   ],
   "source": [
    "np.zeros(5)    #生成全0数组\n",
    "np.ones(5)    #生成全1数组\n",
    "np.empty((3,2))    #生成没有初始化数值的数组（可能会如下返回垃圾数值），多维数组得在括号里加元组"
   ]
  },
  {
   "cell_type": "code",
   "execution_count": 12,
   "id": "d09df914",
   "metadata": {},
   "outputs": [
    {
     "data": {
      "text/plain": [
       "array([0, 1, 2, 3, 4])"
      ]
     },
     "execution_count": 12,
     "metadata": {},
     "output_type": "execute_result"
    }
   ],
   "source": [
    "np.arange(5)    #arange相当于range, 默认生成数据类型是float64"
   ]
  },
  {
   "cell_type": "code",
   "execution_count": 13,
   "id": "80c994e2",
   "metadata": {},
   "outputs": [
    {
     "data": {
      "text/plain": [
       "dtype('float64')"
      ]
     },
     "execution_count": 13,
     "metadata": {},
     "output_type": "execute_result"
    }
   ],
   "source": [
    "arr = np.array([1,2,3])\n",
    "float_arr = arr.astype(np.float64)    # astype改变array的数据类型\n",
    "float_arr.dtype"
   ]
  },
  {
   "cell_type": "code",
   "execution_count": 14,
   "id": "3ea5d846",
   "metadata": {},
   "outputs": [
    {
     "data": {
      "text/plain": [
       "array([[ 1.,  4.,  9.],\n",
       "       [16., 25., 36.]])"
      ]
     },
     "execution_count": 14,
     "metadata": {},
     "output_type": "execute_result"
    }
   ],
   "source": [
    "arr = np.array([[1.,2.,3.],[4.,5.,6]])    \n",
    "arr*arr    #数组任何批量操作都不用for循环，任何两个等尺寸数组的算数操作都应用了逐元素操作"
   ]
  },
  {
   "cell_type": "code",
   "execution_count": 15,
   "id": "6400911c",
   "metadata": {},
   "outputs": [
    {
     "data": {
      "text/plain": [
       "array([[1.        , 0.5       , 0.33333333],\n",
       "       [0.25      , 0.2       , 0.16666667]])"
      ]
     },
     "execution_count": 15,
     "metadata": {},
     "output_type": "execute_result"
    }
   ],
   "source": [
    "1/arr"
   ]
  },
  {
   "cell_type": "code",
   "execution_count": 16,
   "id": "8f5279d8",
   "metadata": {},
   "outputs": [
    {
     "data": {
      "text/plain": [
       "array([[False,  True, False],\n",
       "       [ True, False,  True]])"
      ]
     },
     "execution_count": 16,
     "metadata": {},
     "output_type": "execute_result"
    }
   ],
   "source": [
    "arr2 = np.array([[0.,4.,1.],[7.,2.,12.]])\n",
    "arr2 > arr    #数组比较是每个元素一一对应比较，产生Boolean数组"
   ]
  },
  {
   "cell_type": "code",
   "execution_count": 17,
   "id": "1caf49ae",
   "metadata": {},
   "outputs": [
    {
     "data": {
      "text/plain": [
       "array([3, 4])"
      ]
     },
     "execution_count": 17,
     "metadata": {},
     "output_type": "execute_result"
    }
   ],
   "source": [
    "arr = np.arange(5)\n",
    "arr[3:5]    #索引取arr中第3-4位的元素，py中取值范围依旧前闭后开，且从第0位开始"
   ]
  },
  {
   "cell_type": "code",
   "execution_count": 19,
   "id": "a50e61f2",
   "metadata": {},
   "outputs": [
    {
     "data": {
      "text/plain": [
       "array([0, 1, 2, 9, 9])"
      ]
     },
     "execution_count": 19,
     "metadata": {},
     "output_type": "execute_result"
    }
   ],
   "source": [
    "arr[3:5] = 9    #将3-4位元素替代为9\n",
    "arr"
   ]
  },
  {
   "cell_type": "code",
   "execution_count": 20,
   "id": "b900b58b",
   "metadata": {},
   "outputs": [
    {
     "data": {
      "text/plain": [
       "array([     0,      1,      2,      9, 123456])"
      ]
     },
     "execution_count": 20,
     "metadata": {},
     "output_type": "execute_result"
    }
   ],
   "source": [
    "arr_silce = arr[3:5]\n",
    "arr_silce[1] = 123456\n",
    "arr    #数组的切片也是原视图，任何对于视图的修改都会反映到原数组\n",
    "       #如果想要拷贝而不是切片视图，则arr[3:5].copy()"
   ]
  },
  {
   "cell_type": "code",
   "execution_count": 21,
   "id": "96523c0b",
   "metadata": {},
   "outputs": [
    {
     "data": {
      "text/plain": [
       "array([7, 8, 9])"
      ]
     },
     "execution_count": 21,
     "metadata": {},
     "output_type": "execute_result"
    }
   ],
   "source": [
    "arr2d = np.array([[1,2,3],[4,5,6],[7,8,9]])\n",
    "arr2d[2]    #在二维数组中，每个索引值对应的是一个一维数组，py数组中也是00开始"
   ]
  },
  {
   "cell_type": "code",
   "execution_count": 22,
   "id": "02fd29fb",
   "metadata": {},
   "outputs": [
    {
     "data": {
      "text/plain": [
       "3"
      ]
     },
     "execution_count": 22,
     "metadata": {},
     "output_type": "execute_result"
    }
   ],
   "source": [
    "arr2d[0,2]    #在高维数组索引取一个元素得写出它的坐标"
   ]
  },
  {
   "cell_type": "code",
   "execution_count": 23,
   "id": "cd3f3803",
   "metadata": {},
   "outputs": [
    {
     "data": {
      "text/plain": [
       "array([[[ 1,  2,  3],\n",
       "        [ 4,  5,  6]],\n",
       "\n",
       "       [[ 7,  8,  9],\n",
       "        [10, 11, 12]]])"
      ]
     },
     "execution_count": 23,
     "metadata": {},
     "output_type": "execute_result"
    }
   ],
   "source": [
    "arr3d = np.array([[[1,2,3],[4,5,6]],[[7,8,9],[10,11,12]]])\n",
    "arr3d    #arr3d是一个三维数组，索引首位定位一个二维数组，0指123456这个数组，1指789101112这个数组"
   ]
  },
  {
   "cell_type": "code",
   "execution_count": 24,
   "id": "c0c2492f",
   "metadata": {},
   "outputs": [
    {
     "data": {
      "text/plain": [
       "array([7, 8, 9])"
      ]
     },
     "execution_count": 24,
     "metadata": {},
     "output_type": "execute_result"
    }
   ],
   "source": [
    "arr3d[1,0]    #指第1个二维数组，第0行"
   ]
  },
  {
   "cell_type": "code",
   "execution_count": 25,
   "id": "8d88b872",
   "metadata": {},
   "outputs": [
    {
     "data": {
      "text/plain": [
       "8"
      ]
     },
     "execution_count": 25,
     "metadata": {},
     "output_type": "execute_result"
    }
   ],
   "source": [
    "arr3d[1,0,1]    #指第1个二维数组，第0行，第1列元素"
   ]
  },
  {
   "cell_type": "code",
   "execution_count": 26,
   "id": "92923797",
   "metadata": {},
   "outputs": [
    {
     "data": {
      "text/plain": [
       "array([[1, 2, 3],\n",
       "       [4, 5, 6]])"
      ]
     },
     "execution_count": 26,
     "metadata": {},
     "output_type": "execute_result"
    }
   ],
   "source": [
    "arr2d[:2]    #选择arr2d的前2行进行切片"
   ]
  },
  {
   "cell_type": "code",
   "execution_count": 27,
   "id": "f26d510c",
   "metadata": {},
   "outputs": [
    {
     "data": {
      "text/plain": [
       "array([[2, 3],\n",
       "       [5, 6]])"
      ]
     },
     "execution_count": 27,
     "metadata": {},
     "output_type": "execute_result"
    }
   ],
   "source": [
    "arr2d[:2,1:]    #选择arr2d的前两行中的1、2列\n",
    "                #一个：表示选择整个轴上的数组"
   ]
  },
  {
   "cell_type": "code",
   "execution_count": 33,
   "id": "1032a44f",
   "metadata": {},
   "outputs": [
    {
     "data": {
      "text/plain": [
       "array([[ 1.30865186, -2.12142588, -2.06364165],\n",
       "       [ 0.2851082 ,  0.28548592,  0.1483923 ],\n",
       "       [-0.03486523,  1.56439757,  1.46028828],\n",
       "       [-0.25387171, -1.30909419, -0.62879963]])"
      ]
     },
     "execution_count": 33,
     "metadata": {},
     "output_type": "execute_result"
    }
   ],
   "source": [
    "names = np.array(['Bob','Joe','Will','Bob'])\n",
    "data = np.random.randn(4,3)\n",
    "data"
   ]
  },
  {
   "cell_type": "code",
   "execution_count": 34,
   "id": "b4dadfaf",
   "metadata": {},
   "outputs": [
    {
     "data": {
      "text/plain": [
       "array([[ 1.30865186, -2.12142588, -2.06364165],\n",
       "       [-0.25387171, -1.30909419, -0.62879963]])"
      ]
     },
     "execution_count": 34,
     "metadata": {},
     "output_type": "execute_result"
    }
   ],
   "source": [
    "names == 'Bob'    #==是比较操作，生成一个Boolean数组\n",
    "data[names == 'Bob']    #Boolean数组会索引出一个数组，前提是布尔数组长度必须和数组索引轴长度一致，即前者列数=后者行数\n",
    "                        #即布尔列一一对应着数组的行，ture对应的就显示，false就不显示"
   ]
  },
  {
   "cell_type": "code",
   "execution_count": 35,
   "id": "f2cf2b35",
   "metadata": {},
   "outputs": [
    {
     "data": {
      "text/plain": [
       "array([[ 0.2851082 ,  0.28548592,  0.1483923 ],\n",
       "       [-0.03486523,  1.56439757,  1.46028828]])"
      ]
     },
     "execution_count": 35,
     "metadata": {},
     "output_type": "execute_result"
    }
   ],
   "source": [
    "data[~(names == 'Bob')]    # ~表示取反，即剩余的行"
   ]
  },
  {
   "cell_type": "code",
   "execution_count": 36,
   "id": "e72e0297",
   "metadata": {},
   "outputs": [
    {
     "data": {
      "text/plain": [
       "array([[ 1.30865186, -2.12142588, -2.06364165],\n",
       "       [-0.03486523,  1.56439757,  1.46028828],\n",
       "       [-0.25387171, -1.30909419, -0.62879963]])"
      ]
     },
     "execution_count": 36,
     "metadata": {},
     "output_type": "execute_result"
    }
   ],
   "source": [
    "mask = (names == 'Bob') | (names == 'Will')    # &(and) |(or)\n",
    "data[mask]"
   ]
  },
  {
   "cell_type": "code",
   "execution_count": 40,
   "id": "4a4826c9",
   "metadata": {},
   "outputs": [
    {
     "data": {
      "text/plain": [
       "array([[1.30865186, 0.        , 0.        ],\n",
       "       [0.2851082 , 0.28548592, 0.1483923 ],\n",
       "       [0.        , 1.56439757, 1.46028828],\n",
       "       [0.        , 0.        , 0.        ]])"
      ]
     },
     "execution_count": 40,
     "metadata": {},
     "output_type": "execute_result"
    }
   ],
   "source": [
    "data[data < 0] = 0    #data中小于0的元素全替换成0、\n",
    "data"
   ]
  },
  {
   "cell_type": "code",
   "execution_count": 41,
   "id": "d7ae0774",
   "metadata": {},
   "outputs": [
    {
     "data": {
      "text/plain": [
       "array([[0., 0., 0., 0.],\n",
       "       [1., 1., 1., 1.],\n",
       "       [2., 2., 2., 2.],\n",
       "       [3., 3., 3., 3.],\n",
       "       [4., 4., 4., 4.],\n",
       "       [5., 5., 5., 5.],\n",
       "       [6., 6., 6., 6.],\n",
       "       [7., 7., 7., 7.]])"
      ]
     },
     "execution_count": 41,
     "metadata": {},
     "output_type": "execute_result"
    }
   ],
   "source": [
    "arr = np.empty((8,4))\n",
    "for i in range(8):\n",
    "    arr[i] = i\n",
    "arr"
   ]
  },
  {
   "cell_type": "code",
   "execution_count": 42,
   "id": "f6e19f04",
   "metadata": {},
   "outputs": [
    {
     "data": {
      "text/plain": [
       "array([[4., 4., 4., 4.],\n",
       "       [3., 3., 3., 3.],\n",
       "       [0., 0., 0., 0.],\n",
       "       [6., 6., 6., 6.]])"
      ]
     },
     "execution_count": 42,
     "metadata": {},
     "output_type": "execute_result"
    }
   ],
   "source": [
    "arr[[4,3,0,6]]    #arr中括号套中括号，里面的表示取多少行，即取4306行"
   ]
  },
  {
   "cell_type": "code",
   "execution_count": 43,
   "id": "bea0ae95",
   "metadata": {},
   "outputs": [
    {
     "data": {
      "text/plain": [
       "array([[5., 5., 5., 5.],\n",
       "       [3., 3., 3., 3.],\n",
       "       [1., 1., 1., 1.]])"
      ]
     },
     "execution_count": 43,
     "metadata": {},
     "output_type": "execute_result"
    }
   ],
   "source": [
    "arr[[-3,-5,-7]]    #使用负索引，将从尾部开始选择，尾部从-1开始，没有0"
   ]
  },
  {
   "cell_type": "code",
   "execution_count": 45,
   "id": "d3a6c4b0",
   "metadata": {},
   "outputs": [
    {
     "data": {
      "text/plain": [
       "array([[ 0,  1,  2,  3],\n",
       "       [ 4,  5,  6,  7],\n",
       "       [ 8,  9, 10, 11],\n",
       "       [12, 13, 14, 15],\n",
       "       [16, 17, 18, 19],\n",
       "       [20, 21, 22, 23],\n",
       "       [24, 25, 26, 27],\n",
       "       [28, 29, 30, 31]])"
      ]
     },
     "execution_count": 45,
     "metadata": {},
     "output_type": "execute_result"
    }
   ],
   "source": [
    "arr = np.arange(32).reshape((8,4))    #从0-31按顺序生成8行4列的数组，reshape用于改变数组的行列型\n",
    "arr"
   ]
  },
  {
   "cell_type": "code",
   "execution_count": 46,
   "id": "e4c9a368",
   "metadata": {},
   "outputs": [
    {
     "data": {
      "text/plain": [
       "array([ 4, 23, 29, 10])"
      ]
     },
     "execution_count": 46,
     "metadata": {},
     "output_type": "execute_result"
    }
   ],
   "source": [
    "arr[[1,5,7,2],[0,3,1,2]]    #取（1，0），（5，3），（7，2），（2，2）对应的元素\n",
    "                            #两组【】，即其中一一对应组成坐标，取对应坐标的元素"
   ]
  },
  {
   "cell_type": "code",
   "execution_count": 47,
   "id": "6757d71f",
   "metadata": {},
   "outputs": [
    {
     "data": {
      "text/plain": [
       "array([[ 0,  5, 10],\n",
       "       [ 1,  6, 11],\n",
       "       [ 2,  7, 12],\n",
       "       [ 3,  8, 13],\n",
       "       [ 4,  9, 14]])"
      ]
     },
     "execution_count": 47,
     "metadata": {},
     "output_type": "execute_result"
    }
   ],
   "source": [
    "arr = np.arange(15).reshape((3,5))\n",
    "arr.T    #arr.T即转置矩阵（数组），行列对换"
   ]
  },
  {
   "cell_type": "code",
   "execution_count": 48,
   "id": "e0d4fbf2",
   "metadata": {},
   "outputs": [
    {
     "data": {
      "text/plain": [
       "array([[125, 140, 155, 170, 185],\n",
       "       [140, 158, 176, 194, 212],\n",
       "       [155, 176, 197, 218, 239],\n",
       "       [170, 194, 218, 242, 266],\n",
       "       [185, 212, 239, 266, 293]])"
      ]
     },
     "execution_count": 48,
     "metadata": {},
     "output_type": "execute_result"
    }
   ],
   "source": [
    "np.dot(arr.T, arr)    #dot.求矩阵arr和其倒置的内积\n",
    "                      #内积即，a00 = （0行对应元素*0列对应元素）加和，其实就是矩阵的乘法"
   ]
  },
  {
   "cell_type": "code",
   "execution_count": 50,
   "id": "ee2b76e1",
   "metadata": {},
   "outputs": [
    {
     "data": {
      "text/plain": [
       "array([[[ 0,  1,  2,  3],\n",
       "        [ 4,  5,  6,  7]],\n",
       "\n",
       "       [[ 8,  9, 10, 11],\n",
       "        [12, 13, 14, 15]]])"
      ]
     },
     "execution_count": 50,
     "metadata": {},
     "output_type": "execute_result"
    }
   ],
   "source": [
    "arr = np.arange(16).reshape((2,2,4))\n",
    "arr"
   ]
  },
  {
   "cell_type": "code",
   "execution_count": 51,
   "id": "29321e81",
   "metadata": {},
   "outputs": [
    {
     "data": {
      "text/plain": [
       "array([[[ 0,  1,  2,  3],\n",
       "        [ 8,  9, 10, 11]],\n",
       "\n",
       "       [[ 4,  5,  6,  7],\n",
       "        [12, 13, 14, 15]]])"
      ]
     },
     "execution_count": 51,
     "metadata": {},
     "output_type": "execute_result"
    }
   ],
   "source": [
    "arr.transpose((1,0,2))    #用于多维数组轴的转换，第一、二轴互换"
   ]
  },
  {
   "cell_type": "code",
   "execution_count": 52,
   "id": "f9b8c990",
   "metadata": {},
   "outputs": [
    {
     "data": {
      "text/plain": [
       "array([[[ 0,  4],\n",
       "        [ 1,  5],\n",
       "        [ 2,  6],\n",
       "        [ 3,  7]],\n",
       "\n",
       "       [[ 8, 12],\n",
       "        [ 9, 13],\n",
       "        [10, 14],\n",
       "        [11, 15]]])"
      ]
     },
     "execution_count": 52,
     "metadata": {},
     "output_type": "execute_result"
    }
   ],
   "source": [
    "arr.swapaxes(1,2)    #swapaxes接收一对轴编号作为参数，并对轴进行调整用于重组数据\n",
    "                     #（1，2）的意思是arr(2,2,4)中1、2轴互换，即（2，4，2），表示2个维数组、4行、2列，相当于每维数组倒置\n",
    "                      #二维数组中只有两个参数，swapaxes(0,1)即等于倒置"
   ]
  },
  {
   "cell_type": "code",
   "execution_count": 53,
   "id": "3991166f",
   "metadata": {},
   "outputs": [
    {
     "data": {
      "text/plain": [
       "array([1.00000000e+00, 2.71828183e+00, 7.38905610e+00, 2.00855369e+01,\n",
       "       5.45981500e+01, 1.48413159e+02, 4.03428793e+02, 1.09663316e+03,\n",
       "       2.98095799e+03, 8.10308393e+03])"
      ]
     },
     "execution_count": 53,
     "metadata": {},
     "output_type": "execute_result"
    }
   ],
   "source": [
    "arr = np.arange(10)\n",
    "np.sqrt(arr)    #对数组中每个元素开根号\n",
    "np.exp(arr)    #对数组中每个元素求e的某次方\n",
    "               #np.maximum(a,b), 逐个把a,b两个数组中对应元素的最大值计算出来"
   ]
  },
  {
   "cell_type": "code",
   "execution_count": 55,
   "id": "36ed8625",
   "metadata": {},
   "outputs": [
    {
     "data": {
      "text/plain": [
       "array([ 0.19309404,  0.86844082, -0.24225644, -0.49334057, -0.72104755,\n",
       "       -0.5884988 , -0.77036242])"
      ]
     },
     "execution_count": 55,
     "metadata": {},
     "output_type": "execute_result"
    }
   ],
   "source": [
    "arr = np.random.randn(7)\n",
    "remainder,whole_part = np.modf(arr)    #modf将arr中的每个元素分为小数部分，整数部分（前小后整）\n",
    "remainder    #小数部分"
   ]
  },
  {
   "cell_type": "code",
   "execution_count": 56,
   "id": "05d8ae53",
   "metadata": {},
   "outputs": [
    {
     "data": {
      "text/plain": [
       "array([ 0.,  0., -0., -0., -1., -2., -0.])"
      ]
     },
     "execution_count": 56,
     "metadata": {},
     "output_type": "execute_result"
    }
   ],
   "source": [
    "whole_part    #整数部分"
   ]
  },
  {
   "cell_type": "code",
   "execution_count": 57,
   "id": "de83d982",
   "metadata": {},
   "outputs": [
    {
     "name": "stderr",
     "output_type": "stream",
     "text": [
      "C:\\Users\\12232\\AppData\\Local\\Temp\\ipykernel_19332\\3432068196.py:1: RuntimeWarning: invalid value encountered in sqrt\n",
      "  np.sqrt(arr,arr)\n"
     ]
    },
    {
     "data": {
      "text/plain": [
       "array([0.43942467, 0.93190172,        nan,        nan,        nan,\n",
       "              nan,        nan])"
      ]
     },
     "execution_count": 57,
     "metadata": {},
     "output_type": "execute_result"
    }
   ],
   "source": [
    "np.sqrt(arr,arr)    #通用函数接收一个可选函数out,即双选arr,允许对数组按位置操作，而不是只对视图\n",
    "                    #通用函数有abs, fabs(两者都绝对值)，square(平方)，rint(保留到整数位)，sinh(arcsin), log2()(以2为底数的log),floor(最小整数值)\n",
    "                    #二元通用函数add,subtract,multiply,divide,power(幂)，mod,floor_divide(整除)\n",
    "arr"
   ]
  },
  {
   "cell_type": "code",
   "execution_count": 61,
   "id": "6b88bbfa",
   "metadata": {},
   "outputs": [
    {
     "data": {
      "text/plain": [
       "array([[-5.  , -5.  , -5.  , ..., -5.  , -5.  , -5.  ],\n",
       "       [-4.99, -4.99, -4.99, ..., -4.99, -4.99, -4.99],\n",
       "       [-4.98, -4.98, -4.98, ..., -4.98, -4.98, -4.98],\n",
       "       ...,\n",
       "       [ 4.97,  4.97,  4.97, ...,  4.97,  4.97,  4.97],\n",
       "       [ 4.98,  4.98,  4.98, ...,  4.98,  4.98,  4.98],\n",
       "       [ 4.99,  4.99,  4.99, ...,  4.99,  4.99,  4.99]])"
      ]
     },
     "execution_count": 61,
     "metadata": {},
     "output_type": "execute_result"
    }
   ],
   "source": [
    "points = np.arange(-5,5,0.01)\n",
    "xs,ys = np.meshgrid(points,points)    #meshgrid函数接收两个一维数组（points），并根据两个数组的所有（x,y)对生成一个二维矩阵\n",
    "                                      #x,y互为倒置，x中取值随列数（横坐标）增大而增大，而在行数（纵坐标）上不变；y中取值则是随行数（纵坐标）增大而增大，而在列数（横坐标）上不变\n",
    "                                      #这样可以实现（x,y), 在行列取值规律上模拟直角坐标系，妙！\n",
    "xs\n",
    "ys"
   ]
  },
  {
   "cell_type": "code",
   "execution_count": 62,
   "id": "a05f3c18",
   "metadata": {},
   "outputs": [
    {
     "data": {
      "text/plain": [
       "array([[7.07106781, 7.06400028, 7.05693985, ..., 7.04988652, 7.05693985,\n",
       "        7.06400028],\n",
       "       [7.06400028, 7.05692568, 7.04985815, ..., 7.04279774, 7.04985815,\n",
       "        7.05692568],\n",
       "       [7.05693985, 7.04985815, 7.04278354, ..., 7.03571603, 7.04278354,\n",
       "        7.04985815],\n",
       "       ...,\n",
       "       [7.04988652, 7.04279774, 7.03571603, ..., 7.0286414 , 7.03571603,\n",
       "        7.04279774],\n",
       "       [7.05693985, 7.04985815, 7.04278354, ..., 7.03571603, 7.04278354,\n",
       "        7.04985815],\n",
       "       [7.06400028, 7.05692568, 7.04985815, ..., 7.04279774, 7.04985815,\n",
       "        7.05692568]])"
      ]
     },
     "execution_count": 62,
     "metadata": {},
     "output_type": "execute_result"
    }
   ],
   "source": [
    "z = np.sqrt(xs**2 + ys**2)    #表示距离原点距离公式函数，x取列数，y取行数，即可找到对应的z值\n",
    "z"
   ]
  },
  {
   "cell_type": "code",
   "execution_count": 65,
   "id": "b6c4dc08",
   "metadata": {},
   "outputs": [
    {
     "data": {
      "text/plain": [
       "Text(0.5, 1.0, 'Image plot of $\\\\sqrt{x^2 + y^2}$ for a grid of values')"
      ]
     },
     "execution_count": 65,
     "metadata": {},
     "output_type": "execute_result"
    },
    {
     "data": {
      "image/png": "[encoded data removed]",
      "text/plain": [
       "<Figure size 640x480 with 2 Axes>"
      ]
     },
     "metadata": {},
     "output_type": "display_data"
    }
   ],
   "source": [
    "import matplotlib.pyplot as plt\n",
    "plt.imshow(z,cmap=plt.cm.gray)  #使用 imshow() 函数绘制图像。z 是要显示的图像数据，它可以是二维数组或彩色图像的三维数组。cmap 参数指定了用于绘制图像的颜色映射。在这里，plt.cm.gray 表示使用灰度颜色映射绘制图像。\n",
    "plt.colorbar()  #添加一个颜色条，用于显示图像上不同灰度值对应的颜色。\n",
    "plt.title(\"Image plot of $\\sqrt{x^2 + y^2}$ for a grid of values\")\n",
    "#将z函数利用matplot数据可视化"
   ]
  },
  {
   "cell_type": "code",
   "execution_count": 3,
   "id": "62ffded9",
   "metadata": {},
   "outputs": [
    {
     "data": {
      "text/plain": [
       "array([1.1, 2.2, 1.3, 1.4, 2.5])"
      ]
     },
     "execution_count": 3,
     "metadata": {},
     "output_type": "execute_result"
    }
   ],
   "source": [
    "xarr = np.array([1.1,1.2,1.3,1.4,1.5])\n",
    "yarr = np.array([2.1,2.2,2.3,2.4,2.5])\n",
    "cond = np.array([True,False,True,True,False])\n",
    "result = np.where(cond,xarr,yarr)    #类似于三元表达式 x if condition else y, cond是ture则取xarr的值，否则取对应yarr值\n",
    "result"
   ]
  },
  {
   "cell_type": "code",
   "execution_count": 4,
   "id": "0622c26f",
   "metadata": {},
   "outputs": [
    {
     "data": {
      "text/plain": [
       "array([[ 2, -2,  2,  2],\n",
       "       [-2,  2, -2, -2],\n",
       "       [-2,  2, -2,  2],\n",
       "       [-2, -2,  2, -2]])"
      ]
     },
     "execution_count": 4,
     "metadata": {},
     "output_type": "execute_result"
    }
   ],
   "source": [
    "arr = np.random.randn(4,4)\n",
    "np.where(arr>0, 2, -2)    #arr元素中大于0的就替换成2，否则替换成-2"
   ]
  },
  {
   "cell_type": "code",
   "execution_count": 5,
   "id": "bd5d81ee",
   "metadata": {},
   "outputs": [
    {
     "data": {
      "text/plain": [
       "array([-0.56122201, -0.02396455, -0.43128295, -0.51062888, -0.37531298])"
      ]
     },
     "execution_count": 5,
     "metadata": {},
     "output_type": "execute_result"
    }
   ],
   "source": [
    "arr = np.random.randn(5,4)\n",
    "arr.mean(1)     #计算每一列的平均值，输出一个一维数组"
   ]
  },
  {
   "cell_type": "code",
   "execution_count": 10,
   "id": "615ef8e0",
   "metadata": {},
   "outputs": [
    {
     "data": {
      "text/plain": [
       "array([-2.24488806, -0.09585819, -1.72513178, -2.04251552, -1.50125194])"
      ]
     },
     "execution_count": 10,
     "metadata": {},
     "output_type": "execute_result"
    }
   ],
   "source": [
    "arr.sum(0)    #计算行轴向的累和,每一列的累和\n",
    "arr.sum(1)    #计算列轴向的累和，每一行的累和，输出一个一维数组\n",
    "              #mean,sum可用于计算给定轴向上的统计值，形成一个下降一维度的数组"
   ]
  },
  {
   "cell_type": "code",
   "execution_count": 14,
   "id": "c48fb134",
   "metadata": {},
   "outputs": [
    {
     "data": {
      "text/plain": [
       "array([ 0,  1,  3,  6, 10, 15, 21, 28])"
      ]
     },
     "execution_count": 14,
     "metadata": {},
     "output_type": "execute_result"
    }
   ],
   "source": [
    "arr = np.arange(8)\n",
    "arr.cumsum(axis=0)     #cumsum和cumprod不会聚合，它们产生一个中间结果\n",
    "                       #即0位=0+0，1位=0+1，2位=0+1+2，以此显示累加的过程中间结果，最终的28才是累加结果"
   ]
  },
  {
   "cell_type": "code",
   "execution_count": 15,
   "id": "ef24af35",
   "metadata": {},
   "outputs": [
    {
     "data": {
      "text/plain": [
       "array([[ 0,  1,  2],\n",
       "       [ 3,  5,  7],\n",
       "       [ 9, 12, 15]])"
      ]
     },
     "execution_count": 15,
     "metadata": {},
     "output_type": "execute_result"
    }
   ],
   "source": [
    "arr = np.array([[0,1,2],[3,4,5],[6,7,8]])\n",
    "arr.cumsum(axis=0)    #每一列元素的累和，返回相同长度的数组，但是可以在指定轴向上根据低维度切片进行部分聚合"
   ]
  },
  {
   "cell_type": "code",
   "execution_count": 16,
   "id": "0d1f0537",
   "metadata": {},
   "outputs": [
    {
     "data": {
      "text/plain": [
       "array([[  0,   0,   0],\n",
       "       [  3,  12,  60],\n",
       "       [  6,  42, 336]])"
      ]
     },
     "execution_count": 16,
     "metadata": {},
     "output_type": "execute_result"
    }
   ],
   "source": [
    "arr.cumprod(axis=1)    #每一行元素的累积，在谁的位置上即到谁时的乘积"
   ]
  },
  {
   "cell_type": "code",
   "execution_count": 17,
   "id": "57a0753d",
   "metadata": {},
   "outputs": [
    {
     "data": {
      "text/plain": [
       "55"
      ]
     },
     "execution_count": 17,
     "metadata": {},
     "output_type": "execute_result"
    }
   ],
   "source": [
    "arr = np.random.randn(100)\n",
    "(arr > 0).sum()    #由于true=1,false=0,即可以利用布尔累加计算100中大于0的数的个数"
   ]
  },
  {
   "cell_type": "code",
   "execution_count": 18,
   "id": "2a9bf897",
   "metadata": {},
   "outputs": [
    {
     "data": {
      "text/plain": [
       "False"
      ]
     },
     "execution_count": 18,
     "metadata": {},
     "output_type": "execute_result"
    }
   ],
   "source": [
    "bools = np.array([False,False,True,False])\n",
    "bools.any()    #any相当于全部析取，有一个true就是true\n",
    "bools.all()    #all相当于全部合取，有一个false就是false"
   ]
  },
  {
   "cell_type": "code",
   "execution_count": 20,
   "id": "620a547e",
   "metadata": {},
   "outputs": [
    {
     "data": {
      "text/plain": [
       "array([-0.7615957 , -0.59919173, -0.41871271,  0.3579097 ,  0.60990547,\n",
       "        0.70176918])"
      ]
     },
     "execution_count": 20,
     "metadata": {},
     "output_type": "execute_result"
    }
   ],
   "source": [
    "arr = np.random.randn(6)\n",
    "arr.sort()    #numpy中也可以用sort排序（升序）\n",
    "arr"
   ]
  },
  {
   "cell_type": "code",
   "execution_count": 21,
   "id": "37a7c742",
   "metadata": {},
   "outputs": [
    {
     "data": {
      "text/plain": [
       "array([[-1.92664999, -0.75376617,  1.79608887],\n",
       "       [-0.40380621,  0.17680378,  1.15586677],\n",
       "       [-0.72206324, -0.64370996, -0.03448301],\n",
       "       [-1.02897135,  0.51902556,  0.8116753 ],\n",
       "       [-1.03845051, -0.95772553,  1.03831763]])"
      ]
     },
     "execution_count": 21,
     "metadata": {},
     "output_type": "execute_result"
    }
   ],
   "source": [
    "arr = np.random.randn(5,3)\n",
    "arr.sort(1)    #沿着行排序，sort返回的是已经排序好的数组拷贝，不是数组\n",
    "arr"
   ]
  },
  {
   "cell_type": "code",
   "execution_count": 22,
   "id": "1d48bb12",
   "metadata": {},
   "outputs": [
    {
     "data": {
      "text/plain": [
       "-1.5742827531086296"
      ]
     },
     "execution_count": 22,
     "metadata": {},
     "output_type": "execute_result"
    }
   ],
   "source": [
    "large_arr = np.random.randn(1000)\n",
    "large_arr.sort()\n",
    "large_arr[int(0.05 * len(large_arr))]  #计算出排序后的数组位置的索引，并将该索引应用于large_arr数组，返回第5%位置处的值"
   ]
  },
  {
   "cell_type": "code",
   "execution_count": 23,
   "id": "63fb728b",
   "metadata": {},
   "outputs": [
    {
     "data": {
      "text/plain": [
       "array(['Bob', 'Joe', 'Will'], dtype='<U4')"
      ]
     },
     "execution_count": 23,
     "metadata": {},
     "output_type": "execute_result"
    }
   ],
   "source": [
    "names = np.array(['Bob','Joe','Will','Bob','Will','Joe','Joe'])\n",
    "np.unique(names)    #unique选出数组中的唯一值，并排序"
   ]
  },
  {
   "cell_type": "code",
   "execution_count": 24,
   "id": "4709479b",
   "metadata": {},
   "outputs": [
    {
     "data": {
      "text/plain": [
       "array([ True, False, False,  True,  True, False,  True])"
      ]
     },
     "execution_count": 24,
     "metadata": {},
     "output_type": "execute_result"
    }
   ],
   "source": [
    "values = np.array([6,0,0,3,2,5,6])\n",
    "np.in1d(values, [2,3,6])     #in1d计算values中的元素是否包含在236中，返回一个布尔数组\n",
    "                             #setdiff1d(x,y)   差集，在x中但不在y中的x的元素\n",
    "                             #setxori1d(x,y)   异或集，在x或y中，但是不属于x和y的交集的元素\n",
    "                             #intersect1d(x,y)   计算x和y的交集，并排序\n",
    "                             #union1d(x,y)   计算x和y的并集，并排序\n",
    "                             #都是相应英文加上1d"
   ]
  },
  {
   "cell_type": "code",
   "execution_count": 27,
   "id": "0811e173",
   "metadata": {},
   "outputs": [
    {
     "data": {
      "text/plain": [
       "array([0, 1, 2, 3, 4, 5, 6, 7, 8, 9])"
      ]
     },
     "execution_count": 27,
     "metadata": {},
     "output_type": "execute_result"
    }
   ],
   "source": [
    "arr = np.arange(10)\n",
    "np.save('some_array',arr)    #以.npy的格式压缩格式进行存储\n",
    "np.load('some_array.npy')     #硬盘上的数组进行载入,名称后要加.npy"
   ]
  },
  {
   "cell_type": "code",
   "execution_count": 28,
   "id": "b2682783",
   "metadata": {},
   "outputs": [
    {
     "data": {
      "text/plain": [
       "array([0, 1, 2, 3, 4, 5, 6, 7, 8, 9])"
      ]
     },
     "execution_count": 28,
     "metadata": {},
     "output_type": "execute_result"
    }
   ],
   "source": [
    "np.savez('array_archive.npz', a = arr, b = arr)   #savez将数组作为参数传递给该函数，以.npz格式存储\n",
    "arch =  np.load('array_archive.npz')     #载入文件时，获得一个字典型对象\n",
    "arch['b']    #通过对象可以方便地载入索引对应的数组\n",
    "             #np.savez_compressed()可以将已经压缩好的文件直接存入，不用再压缩"
   ]
  },
  {
   "cell_type": "code",
   "execution_count": 29,
   "id": "2e4cd56e",
   "metadata": {},
   "outputs": [
    {
     "data": {
      "text/plain": [
       "array([[ 28,  64],\n",
       "       [ 67, 181]])"
      ]
     },
     "execution_count": 29,
     "metadata": {},
     "output_type": "execute_result"
    }
   ],
   "source": [
    "x = np.array([[1,2,3],[4,5,6]])\n",
    "y = np.array([[6,23],[-1,7],[8,9]])\n",
    "x.dot(y)    #矩阵的点乘，即矩阵相乘"
   ]
  },
  {
   "cell_type": "code",
   "execution_count": 30,
   "id": "be98a463",
   "metadata": {},
   "outputs": [
    {
     "data": {
      "text/plain": [
       "array([ 6., 15.])"
      ]
     },
     "execution_count": 30,
     "metadata": {},
     "output_type": "execute_result"
    }
   ],
   "source": [
    "np.dot(x,np.ones(3))   #二维数组和一个长度（列数）相同的数组之间的乘积，结果是一个一维数组"
   ]
  },
  {
   "cell_type": "code",
   "execution_count": 32,
   "id": "e5ff591f",
   "metadata": {},
   "outputs": [
    {
     "data": {
      "text/plain": [
       "array([ 6., 15.])"
      ]
     },
     "execution_count": 32,
     "metadata": {},
     "output_type": "execute_result"
    }
   ],
   "source": [
    "x @ np.ones(3)    # @ 也表示点乘"
   ]
  },
  {
   "cell_type": "code",
   "execution_count": 82,
   "id": "02d37965",
   "metadata": {},
   "outputs": [
    {
     "data": {
      "text/plain": [
       "array([[ 0.00725694, -0.00122245,  0.00158742, -0.00084385, -0.01119289],\n",
       "       [-0.00122245,  0.01572088, -0.01396225,  0.00263609,  0.00458472],\n",
       "       [ 0.00158742, -0.01396225,  0.01835219, -0.00287976, -0.01060196],\n",
       "       [-0.00084385,  0.00263609, -0.00287976,  0.00593099, -0.00150978],\n",
       "       [-0.01119289,  0.00458472, -0.01060196, -0.00150978,  0.02751336]])"
      ]
     },
     "execution_count": 82,
     "metadata": {},
     "output_type": "execute_result"
    }
   ],
   "source": [
    "from numpy.linalg import inv,qr\n",
    "X = np.random.randint(0,25,size=(5,5))    #意味着生成一个形状为 (5, 5) 的矩阵，其中的元素取自于闭区间 [0, 25) 内的随机整数。\n",
    "mat = X.T.dot(X)    #与本身倒置矩阵相乘会形成方阵\n",
    "mat\n",
    "inv(mat)   # inv计算方阵的逆矩阵"
   ]
  },
  {
   "cell_type": "code",
   "execution_count": 79,
   "id": "eb8d9344",
   "metadata": {},
   "outputs": [
    {
     "data": {
      "text/plain": [
       "array([[1, 0, 0, 0, 0],\n",
       "       [0, 1, 0, 0, 0],\n",
       "       [0, 0, 1, 0, 0],\n",
       "       [0, 0, 0, 1, 0],\n",
       "       [0, 0, 0, 0, 1]])"
      ]
     },
     "execution_count": 79,
     "metadata": {},
     "output_type": "execute_result"
    }
   ],
   "source": [
    "mat\n",
    "a = mat.dot(inv(mat))    #矩阵与其逆矩阵相乘得到单位矩阵（对角为1）\n",
    "np.round(a).astype(int)    #矩阵中的元素取整"
   ]
  },
  {
   "cell_type": "code",
   "execution_count": 83,
   "id": "26cfa999",
   "metadata": {},
   "outputs": [
    {
     "data": {
      "text/plain": [
       "array([[-2270, -1016, -1603, -1068, -1446],\n",
       "       [    0,  -248,  -241,    11,   -47],\n",
       "       [    0,     0,   -73,  -125,   -40],\n",
       "       [    0,     0,     0,  -137,     0],\n",
       "       [    0,     0,     0,     0,    31]])"
      ]
     },
     "execution_count": 83,
     "metadata": {},
     "output_type": "execute_result"
    }
   ],
   "source": [
    "q, r = qr(mat)    #计算QR分解，将矩阵分解成一个正交集合，每个列向量都可以用Q（列向量）和上三角矩阵R重新构造出\n",
    "r\n",
    "np.round(r).astype(int)"
   ]
  },
  {
   "cell_type": "code",
   "execution_count": null,
   "id": "e1ee6d18",
   "metadata": {},
   "outputs": [],
   "source": [
    "# diag   将方阵对角元素作为一维数组返回\n",
    "# trace   计算对角元素和\n",
    "# det   计算矩阵的行列式\n",
    "# eig   计算方阵的特征值和特征向量\n",
    "# svd   计算奇异值分解（SVD)\n",
    "# solve   求解x的线性系统Ax=b，其中A是方阵（求解矩阵方程）\n",
    "# lstsq   计算Ax=b的最小二乘解"
   ]
  },
  {
   "cell_type": "code",
   "execution_count": 86,
   "id": "d9d0fffb",
   "metadata": {},
   "outputs": [
    {
     "data": {
      "text/plain": [
       "[<matplotlib.lines.Line2D at 0x194265d07d0>]"
      ]
     },
     "execution_count": 86,
     "metadata": {},
     "output_type": "execute_result"
    },
    {
     "data": {
      "image/png": "[encoded data removed]",
      "text/plain": [
       "<Figure size 640x480 with 1 Axes>"
      ]
     },
     "metadata": {},
     "output_type": "display_data"
    }
   ],
   "source": [
    "nsteps = 1000    #进行1000步漫游\n",
    "draws = np.random.randint(0,2,size=nsteps)    #在这1000步中，随机定义每步为0或1\n",
    "steps = np.where(draws>0, 1,  -1)    #如果一步为0，则定义为-1（倒退一步），一步为1，则定义为1（前进一步）\n",
    "walk = steps.cumsum()     #开始漫游，累加1000次漫步的结果，并显示过程结果\n",
    "import matplotlib.pyplot as plt   \n",
    "plt.plot(walk[:1000])    #漫游可视化，每次运行结果都不同"
   ]
  },
  {
   "cell_type": "code",
   "execution_count": 87,
   "id": "637cbb21",
   "metadata": {},
   "outputs": [
    {
     "data": {
      "text/plain": [
       "4"
      ]
     },
     "execution_count": 87,
     "metadata": {},
     "output_type": "execute_result"
    }
   ],
   "source": [
    "walk.min()   #统计漫步数据中的最小值（倒退到最远的地方）\n",
    "walk.max()   #统计漫步数据中的最大值（前进到最远的地方）"
   ]
  },
  {
   "cell_type": "code",
   "execution_count": 88,
   "id": "93ba9be8",
   "metadata": {},
   "outputs": [
    {
     "data": {
      "text/plain": [
       "129"
      ]
     },
     "execution_count": 88,
     "metadata": {},
     "output_type": "execute_result"
    }
   ],
   "source": [
    "(np.abs(walk) >= 10).argmax()    #找到第一次往一个方向连续走10步的位置"
   ]
  },
  {
   "cell_type": "code",
   "execution_count": null,
   "id": "a50c9776",
   "metadata": {},
   "outputs": [],
   "source": []
  },
  {
   "cell_type": "code",
   "execution_count": null,
   "id": "23041f6b",
   "metadata": {},
   "outputs": [],
   "source": []
  },
  {
   "cell_type": "code",
   "execution_count": null,
   "id": "74f4f004",
   "metadata": {},
   "outputs": [],
   "source": []
  },
  {
   "cell_type": "code",
   "execution_count": null,
   "id": "491312b0",
   "metadata": {},
   "outputs": [],
   "source": []
  },
  {
   "cell_type": "code",
   "execution_count": null,
   "id": "5299912c",
   "metadata": {},
   "outputs": [],
   "source": []
  },
  {
   "cell_type": "code",
   "execution_count": null,
   "id": "7eca0000",
   "metadata": {},
   "outputs": [],
   "source": []
  }
 ],
 "metadata": {
  "kernelspec": {
   "display_name": "Python 3 (ipykernel)",
   "language": "python",
   "name": "python3"
  },
  "language_info": {
   "codemirror_mode": {
    "name": "ipython",
    "version": 3
   },
   "file_extension": ".py",
   "mimetype": "text/x-python",
   "name": "python",
   "nbconvert_exporter": "python",
   "pygments_lexer": "ipython3",
   "version": "3.11.4"
  }
 },
 "nbformat": 4,
 "nbformat_minor": 5
}
